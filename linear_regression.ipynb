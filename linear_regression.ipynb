{
 "cells": [
  {
   "metadata": {},
   "cell_type": "markdown",
   "source": [
    "linear regression determines the extent to which one or more independent variable predicts a value of a dependent variable.\n",
    "Linear Regression assumes the following model:\n",
    "\n",
    "y=Xβ+c+ϵ    where:\n",
    "X = data (independent variables)\n",
    "β = coefficients\n",
    "c =intercept\n",
    "ϵ = error, cannot explained by model\n",
    "y = target (predicted)\n"
   ],
   "id": "492a966504c6d6f9"
  },
  {
   "cell_type": "code",
   "id": "20e08a0639b78c6b",
   "metadata": {
    "ExecuteTime": {
     "end_time": "2024-11-11T07:18:12.809851Z",
     "start_time": "2024-11-11T07:18:12.554998Z"
    }
   },
   "source": [
    "import matplotlib.pylab as plt\n",
    "import numpy as np\n",
    "%matplotlib inline\n",
    "from sklearn.linear_model import LinearRegression\n",
    "from sklearn.datasets import load_diabetes    \n",
    "from sklearn.model_selection import train_test_split"
   ],
   "outputs": [],
   "execution_count": 11
  },
  {
   "metadata": {},
   "cell_type": "markdown",
   "source": "data set diabetes is separated for training and testing the model",
   "id": "fe9e6843b848ba6a"
  },
  {
   "metadata": {
    "ExecuteTime": {
     "end_time": "2024-11-11T07:18:16.343834Z",
     "start_time": "2024-11-11T07:18:14.221044Z"
    }
   },
   "cell_type": "code",
   "source": [
    "# Loading the sklearn diabetes dataset  \n",
    "X, Y = load_diabetes(return_X_y=True)  \n",
    "feature_names = load_diabetes().feature_names  # Column names\n",
    "print(\"Feature names:\", feature_names)\n"
   ],
   "id": "993aaa642e663043",
   "outputs": [
    {
     "name": "stdout",
     "output_type": "stream",
     "text": [
      "Feature names: ['age', 'sex', 'bmi', 'bp', 's1', 's2', 's3', 's4', 's5', 's6']\n"
     ]
    }
   ],
   "execution_count": 12
  },
  {
   "metadata": {},
   "cell_type": "markdown",
   "source": "train and testing the model",
   "id": "402ee04835178fcd"
  },
  {
   "metadata": {
    "collapsed": true,
    "ExecuteTime": {
     "end_time": "2024-11-11T07:18:17.524978Z",
     "start_time": "2024-11-11T07:18:17.490Z"
    }
   },
   "cell_type": "code",
   "source": [
    "# Separate train and test data\n",
    "\n",
    "X_train, X_test, y_train, y_test = train_test_split(X, Y, test_size=0.2, random_state=42)\n",
    "# There are three steps to model something with sklearn\n",
    "# 1. Set up the model\n",
    "model = LinearRegression()\n",
    "# 2. Use fit\n",
    "model.fit(X_train, y_train)\n",
    "# 3. Check the score\n",
    "model.score(X_test, y_test)\n"
   ],
   "id": "initial_id",
   "outputs": [
    {
     "data": {
      "text/plain": [
       "0.4526027629719197"
      ]
     },
     "execution_count": 13,
     "metadata": {},
     "output_type": "execute_result"
    }
   ],
   "execution_count": 13
  },
  {
   "metadata": {},
   "cell_type": "markdown",
   "source": "getting model coefficients",
   "id": "71e101516026205"
  },
  {
   "metadata": {
    "ExecuteTime": {
     "end_time": "2024-11-11T07:18:20.536834Z",
     "start_time": "2024-11-11T07:18:19.579840Z"
    }
   },
   "cell_type": "code",
   "source": "model.coef_ # Get the coefficients, beta",
   "id": "42f3a8f5625eee99",
   "outputs": [
    {
     "data": {
      "text/plain": [
       "array([  37.90402135, -241.96436231,  542.42875852,  347.70384391,\n",
       "       -931.48884588,  518.06227698,  163.41998299,  275.31790158,\n",
       "        736.1988589 ,   48.67065743])"
      ]
     },
     "execution_count": 14,
     "metadata": {},
     "output_type": "execute_result"
    }
   ],
   "execution_count": 14
  },
  {
   "metadata": {},
   "cell_type": "markdown",
   "source": "model intercept",
   "id": "931b690bbca8430b"
  },
  {
   "metadata": {
    "ExecuteTime": {
     "end_time": "2024-11-11T07:18:22.870022Z",
     "start_time": "2024-11-11T07:18:21.802111Z"
    }
   },
   "cell_type": "code",
   "source": "model.intercept_ # Get the intercept, c\n",
   "id": "2657e62172719d94",
   "outputs": [
    {
     "data": {
      "text/plain": [
       "np.float64(151.34560453985995)"
      ]
     },
     "execution_count": 15,
     "metadata": {},
     "output_type": "execute_result"
    }
   ],
   "execution_count": 15
  },
  {
   "metadata": {},
   "cell_type": "markdown",
   "source": "model prediction\n",
   "id": "b949ef98b07ee204"
  },
  {
   "metadata": {
    "ExecuteTime": {
     "end_time": "2024-11-11T07:18:25.890107Z",
     "start_time": "2024-11-11T07:18:23.476023Z"
    }
   },
   "cell_type": "code",
   "source": "model.predict(X_test)",
   "id": "cfa59b45005edc91",
   "outputs": [
    {
     "data": {
      "text/plain": [
       "array([139.5475584 , 179.51720835, 134.03875572, 291.41702925,\n",
       "       123.78965872,  92.1723465 , 258.23238899, 181.33732057,\n",
       "        90.22411311, 108.63375858,  94.13865744, 168.43486358,\n",
       "        53.5047888 , 206.63081659, 100.12925869, 130.66657085,\n",
       "       219.53071499, 250.7803234 , 196.3688346 , 218.57511815,\n",
       "       207.35050182,  88.48340941,  70.43285917, 188.95914235,\n",
       "       154.8868162 , 159.36170122, 188.31263363, 180.39094033,\n",
       "        47.99046561, 108.97453871, 174.77897633,  86.36406656,\n",
       "       132.95761215, 184.53819483, 173.83220911, 190.35858492,\n",
       "       124.4156176 , 119.65110656, 147.95168682,  59.05405241,\n",
       "        71.62331856, 107.68284704, 165.45365458, 155.00975931,\n",
       "       171.04799096,  61.45761356,  71.66672581, 114.96732206,\n",
       "        51.57975523, 167.57599528, 152.52291955,  62.95568515,\n",
       "       103.49741722, 109.20751489, 175.64118426, 154.60296242,\n",
       "        94.41704366, 210.74209145, 120.2566205 ,  77.61585399,\n",
       "       187.93203995, 206.49337474, 140.63167076, 105.59678023,\n",
       "       130.70432536, 202.18534537, 171.13039501, 164.91423047,\n",
       "       124.72472569, 144.81030894, 181.99635452, 199.41369642,\n",
       "       234.21436188, 145.95665512,  79.86703276, 157.36941275,\n",
       "       192.74412541, 208.89814032, 158.58722555, 206.02195855,\n",
       "       107.47971675, 140.93598906,  54.82129332,  55.92573195,\n",
       "       115.01180018,  78.95584188,  81.56087285,  54.37997256,\n",
       "       166.2543518 ])"
      ]
     },
     "execution_count": 16,
     "metadata": {},
     "output_type": "execute_result"
    }
   ],
   "execution_count": 16
  },
  {
   "metadata": {},
   "cell_type": "markdown",
   "source": "plotting\n",
   "id": "d54a358f56b674f2"
  },
  {
   "metadata": {
    "ExecuteTime": {
     "end_time": "2024-11-11T07:18:27.767035Z",
     "start_time": "2024-11-11T07:18:26.729626Z"
    }
   },
   "cell_type": "code",
   "source": [
    "# plot prediction and actual data\n",
    "y_pred = model.predict(X_test) \n",
    "plt.plot(y_test, y_pred, '.')\n",
    "\n",
    "# plot a line\n",
    "x = np.linspace(0, 330, 100)\n",
    "y = x\n",
    "plt.plot(x, y)\n",
    "plt.show()"
   ],
   "id": "82b1e5f49827aa94",
   "outputs": [
    {
     "data": {
      "text/plain": [
       "<Figure size 640x480 with 1 Axes>"
      ],
      "image/png": "[encoded data removed]"
     },
     "metadata": {},
     "output_type": "display_data"
    }
   ],
   "execution_count": 17
  }
 ],
 "metadata": {
  "kernelspec": {
   "display_name": "Python 3",
   "language": "python",
   "name": "python3"
  },
  "language_info": {
   "codemirror_mode": {
    "name": "ipython",
    "version": 2
   },
   "file_extension": ".py",
   "mimetype": "text/x-python",
   "name": "python",
   "nbconvert_exporter": "python",
   "pygments_lexer": "ipython2",
   "version": "2.7.6"
  }
 },
 "nbformat": 4,
 "nbformat_minor": 5
}
